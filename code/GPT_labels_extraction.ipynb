{
 "cells": [
  {
   "cell_type": "markdown",
   "id": "af6b1ad0",
   "metadata": {},
   "source": [
    "### In this module, we parse the GPT text results into list of labels "
   ]
  },
  {
   "cell_type": "code",
   "execution_count": null,
   "id": "d55b12ba",
   "metadata": {},
   "outputs": [],
   "source": []
  }
 ],
 "metadata": {
  "kernelspec": {
   "display_name": "venv",
   "language": "python",
   "name": "venv"
  },
  "language_info": {
   "codemirror_mode": {
    "name": "ipython",
    "version": 3
   },
   "file_extension": ".py",
   "mimetype": "text/x-python",
   "name": "python",
   "nbconvert_exporter": "python",
   "pygments_lexer": "ipython3",
   "version": "3.9.0"
  }
 },
 "nbformat": 4,
 "nbformat_minor": 5
}
